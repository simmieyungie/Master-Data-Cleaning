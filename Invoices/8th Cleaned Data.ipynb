{
 "cells": [
  {
   "cell_type": "code",
   "execution_count": 42,
   "metadata": {},
   "outputs": [],
   "source": [
    "import pandas as pd\n",
    "import numpy as np"
   ]
  },
  {
   "cell_type": "code",
   "execution_count": 43,
   "metadata": {},
   "outputs": [],
   "source": [
    "Cdata = pd.read_excel(\"8.-Invoices-with-Merged-Categories-and-Merged-Amounts.xlsx\")"
   ]
  },
  {
   "cell_type": "code",
   "execution_count": 44,
   "metadata": {},
   "outputs": [
    {
     "data": {
      "text/html": [
       "<div>\n",
       "<style scoped>\n",
       "    .dataframe tbody tr th:only-of-type {\n",
       "        vertical-align: middle;\n",
       "    }\n",
       "\n",
       "    .dataframe tbody tr th {\n",
       "        vertical-align: top;\n",
       "    }\n",
       "\n",
       "    .dataframe thead th {\n",
       "        text-align: right;\n",
       "    }\n",
       "</style>\n",
       "<table border=\"1\" class=\"dataframe\">\n",
       "  <thead>\n",
       "    <tr style=\"text-align: right;\">\n",
       "      <th></th>\n",
       "      <th>Order ID</th>\n",
       "      <th>Category</th>\n",
       "      <th>Amount</th>\n",
       "    </tr>\n",
       "  </thead>\n",
       "  <tbody>\n",
       "    <tr>\n",
       "      <td>0</td>\n",
       "      <td>CA-2011-167199</td>\n",
       "      <td>Binders | Art | Phones | Fasteners | Paper</td>\n",
       "      <td>609.98 | 5.48 | 391.98 | 755.96 | 31.12</td>\n",
       "    </tr>\n",
       "    <tr>\n",
       "      <td>1</td>\n",
       "      <td>CA-2011-149020</td>\n",
       "      <td>Office Supplies | Furniture</td>\n",
       "      <td>2.98 | 51.94</td>\n",
       "    </tr>\n",
       "    <tr>\n",
       "      <td>2</td>\n",
       "      <td>CA-2011-131905</td>\n",
       "      <td>Office Supplies | Technology | Technology</td>\n",
       "      <td>7.2 | 42.0186 | 42.035</td>\n",
       "    </tr>\n",
       "    <tr>\n",
       "      <td>3</td>\n",
       "      <td>CA-2011-127614</td>\n",
       "      <td>Accessories | Tables | Binders</td>\n",
       "      <td>234.45 | 1256.22 | 17.46</td>\n",
       "    </tr>\n",
       "  </tbody>\n",
       "</table>\n",
       "</div>"
      ],
      "text/plain": [
       "         Order ID                                    Category  \\\n",
       "0  CA-2011-167199  Binders | Art | Phones | Fasteners | Paper   \n",
       "1  CA-2011-149020                 Office Supplies | Furniture   \n",
       "2  CA-2011-131905   Office Supplies | Technology | Technology   \n",
       "3  CA-2011-127614              Accessories | Tables | Binders   \n",
       "\n",
       "                                    Amount  \n",
       "0  609.98 | 5.48 | 391.98 | 755.96 | 31.12  \n",
       "1                             2.98 | 51.94  \n",
       "2                   7.2 | 42.0186 | 42.035  \n",
       "3                 234.45 | 1256.22 | 17.46  "
      ]
     },
     "execution_count": 44,
     "metadata": {},
     "output_type": "execute_result"
    }
   ],
   "source": [
    "Cdata"
   ]
  },
  {
   "cell_type": "code",
   "execution_count": 45,
   "metadata": {},
   "outputs": [],
   "source": [
    "#Extracting the first part for cleaning\n",
    "Cdata1 = Cdata[['Order ID', 'Category']]"
   ]
  },
  {
   "cell_type": "code",
   "execution_count": 46,
   "metadata": {},
   "outputs": [
    {
     "data": {
      "text/html": [
       "<div>\n",
       "<style scoped>\n",
       "    .dataframe tbody tr th:only-of-type {\n",
       "        vertical-align: middle;\n",
       "    }\n",
       "\n",
       "    .dataframe tbody tr th {\n",
       "        vertical-align: top;\n",
       "    }\n",
       "\n",
       "    .dataframe thead th {\n",
       "        text-align: right;\n",
       "    }\n",
       "</style>\n",
       "<table border=\"1\" class=\"dataframe\">\n",
       "  <thead>\n",
       "    <tr style=\"text-align: right;\">\n",
       "      <th></th>\n",
       "      <th>Order ID</th>\n",
       "      <th>Category</th>\n",
       "    </tr>\n",
       "  </thead>\n",
       "  <tbody>\n",
       "    <tr>\n",
       "      <td>0</td>\n",
       "      <td>CA-2011-167199</td>\n",
       "      <td>Binders | Art | Phones | Fasteners | Paper</td>\n",
       "    </tr>\n",
       "    <tr>\n",
       "      <td>1</td>\n",
       "      <td>CA-2011-149020</td>\n",
       "      <td>Office Supplies | Furniture</td>\n",
       "    </tr>\n",
       "    <tr>\n",
       "      <td>2</td>\n",
       "      <td>CA-2011-131905</td>\n",
       "      <td>Office Supplies | Technology | Technology</td>\n",
       "    </tr>\n",
       "    <tr>\n",
       "      <td>3</td>\n",
       "      <td>CA-2011-127614</td>\n",
       "      <td>Accessories | Tables | Binders</td>\n",
       "    </tr>\n",
       "  </tbody>\n",
       "</table>\n",
       "</div>"
      ],
      "text/plain": [
       "         Order ID                                    Category\n",
       "0  CA-2011-167199  Binders | Art | Phones | Fasteners | Paper\n",
       "1  CA-2011-149020                 Office Supplies | Furniture\n",
       "2  CA-2011-131905   Office Supplies | Technology | Technology\n",
       "3  CA-2011-127614              Accessories | Tables | Binders"
      ]
     },
     "execution_count": 46,
     "metadata": {},
     "output_type": "execute_result"
    }
   ],
   "source": [
    "Cdata1"
   ]
  },
  {
   "cell_type": "code",
   "execution_count": 47,
   "metadata": {},
   "outputs": [
    {
     "name": "stderr",
     "output_type": "stream",
     "text": [
      "C:\\Users\\mike\\Anaconda3\\lib\\site-packages\\ipykernel_launcher.py:1: SettingWithCopyWarning: \n",
      "A value is trying to be set on a copy of a slice from a DataFrame.\n",
      "Try using .loc[row_indexer,col_indexer] = value instead\n",
      "\n",
      "See the caveats in the documentation: http://pandas.pydata.org/pandas-docs/stable/user_guide/indexing.html#returning-a-view-versus-a-copy\n",
      "  \"\"\"Entry point for launching an IPython kernel.\n"
     ]
    },
    {
     "data": {
      "text/plain": [
       "' using .str.split to make the strings split and easy to extract'"
      ]
     },
     "execution_count": 47,
     "metadata": {},
     "output_type": "execute_result"
    }
   ],
   "source": [
    "Cdata1[\"Category\"]=Cdata1[\"Category\"].str.split(\"|\")\n",
    "\"\"\" using .str.split to make the strings split and easy to extract\"\"\""
   ]
  },
  {
   "cell_type": "code",
   "execution_count": 48,
   "metadata": {},
   "outputs": [
    {
     "data": {
      "text/html": [
       "<div>\n",
       "<style scoped>\n",
       "    .dataframe tbody tr th:only-of-type {\n",
       "        vertical-align: middle;\n",
       "    }\n",
       "\n",
       "    .dataframe tbody tr th {\n",
       "        vertical-align: top;\n",
       "    }\n",
       "\n",
       "    .dataframe thead th {\n",
       "        text-align: right;\n",
       "    }\n",
       "</style>\n",
       "<table border=\"1\" class=\"dataframe\">\n",
       "  <thead>\n",
       "    <tr style=\"text-align: right;\">\n",
       "      <th></th>\n",
       "      <th>Order ID</th>\n",
       "      <th>Category</th>\n",
       "    </tr>\n",
       "  </thead>\n",
       "  <tbody>\n",
       "    <tr>\n",
       "      <td>0</td>\n",
       "      <td>CA-2011-167199</td>\n",
       "      <td>[Binders ,  Art ,  Phones ,  Fasteners ,  Paper]</td>\n",
       "    </tr>\n",
       "    <tr>\n",
       "      <td>1</td>\n",
       "      <td>CA-2011-149020</td>\n",
       "      <td>[Office Supplies ,  Furniture]</td>\n",
       "    </tr>\n",
       "    <tr>\n",
       "      <td>2</td>\n",
       "      <td>CA-2011-131905</td>\n",
       "      <td>[Office Supplies ,  Technology ,  Technology]</td>\n",
       "    </tr>\n",
       "    <tr>\n",
       "      <td>3</td>\n",
       "      <td>CA-2011-127614</td>\n",
       "      <td>[Accessories ,  Tables ,  Binders]</td>\n",
       "    </tr>\n",
       "  </tbody>\n",
       "</table>\n",
       "</div>"
      ],
      "text/plain": [
       "         Order ID                                          Category\n",
       "0  CA-2011-167199  [Binders ,  Art ,  Phones ,  Fasteners ,  Paper]\n",
       "1  CA-2011-149020                    [Office Supplies ,  Furniture]\n",
       "2  CA-2011-131905     [Office Supplies ,  Technology ,  Technology]\n",
       "3  CA-2011-127614                [Accessories ,  Tables ,  Binders]"
      ]
     },
     "execution_count": 48,
     "metadata": {},
     "output_type": "execute_result"
    }
   ],
   "source": [
    "Cdata1"
   ]
  },
  {
   "cell_type": "code",
   "execution_count": 49,
   "metadata": {},
   "outputs": [],
   "source": [
    "#.explode transforms each element of a list-like to a row, replicating the index values.\n",
    "Cdata1 = Cdata1.explode(\"Category\").reset_index(drop=True)"
   ]
  },
  {
   "cell_type": "code",
   "execution_count": 50,
   "metadata": {},
   "outputs": [],
   "source": [
    "#Extracting the second part for cleaning\n",
    "Cdata2 = Cdata[['Order ID', 'Amount']]"
   ]
  },
  {
   "cell_type": "code",
   "execution_count": 51,
   "metadata": {},
   "outputs": [
    {
     "name": "stderr",
     "output_type": "stream",
     "text": [
      "C:\\Users\\mike\\Anaconda3\\lib\\site-packages\\ipykernel_launcher.py:1: SettingWithCopyWarning: \n",
      "A value is trying to be set on a copy of a slice from a DataFrame.\n",
      "Try using .loc[row_indexer,col_indexer] = value instead\n",
      "\n",
      "See the caveats in the documentation: http://pandas.pydata.org/pandas-docs/stable/user_guide/indexing.html#returning-a-view-versus-a-copy\n",
      "  \"\"\"Entry point for launching an IPython kernel.\n"
     ]
    }
   ],
   "source": [
    "Cdata2[\"Amount\"]=Cdata2[\"Amount\"].str.split(\"|\")\n",
    "\n"
   ]
  },
  {
   "cell_type": "code",
   "execution_count": 52,
   "metadata": {},
   "outputs": [],
   "source": [
    "Cdata2= Cdata2.explode(\"Amount\").reset_index(drop=True)"
   ]
  },
  {
   "cell_type": "code",
   "execution_count": 54,
   "metadata": {},
   "outputs": [],
   "source": [
    "#Extracting Amount Column from Cdata2\n",
    "Cdata3 = Cdata2['Amount']"
   ]
  },
  {
   "cell_type": "code",
   "execution_count": 55,
   "metadata": {},
   "outputs": [],
   "source": [
    "#Adding a column to Cdata1 from Cdata3 to form the fullly cleaned data\n",
    "Cdata1['Amount'] = Cdata3"
   ]
  },
  {
   "cell_type": "code",
   "execution_count": 57,
   "metadata": {},
   "outputs": [
    {
     "data": {
      "text/html": [
       "<div>\n",
       "<style scoped>\n",
       "    .dataframe tbody tr th:only-of-type {\n",
       "        vertical-align: middle;\n",
       "    }\n",
       "\n",
       "    .dataframe tbody tr th {\n",
       "        vertical-align: top;\n",
       "    }\n",
       "\n",
       "    .dataframe thead th {\n",
       "        text-align: right;\n",
       "    }\n",
       "</style>\n",
       "<table border=\"1\" class=\"dataframe\">\n",
       "  <thead>\n",
       "    <tr style=\"text-align: right;\">\n",
       "      <th></th>\n",
       "      <th>Order ID</th>\n",
       "      <th>Category</th>\n",
       "      <th>Amount</th>\n",
       "    </tr>\n",
       "  </thead>\n",
       "  <tbody>\n",
       "    <tr>\n",
       "      <td>0</td>\n",
       "      <td>CA-2011-167199</td>\n",
       "      <td>Binders</td>\n",
       "      <td>609.98</td>\n",
       "    </tr>\n",
       "    <tr>\n",
       "      <td>1</td>\n",
       "      <td>CA-2011-167199</td>\n",
       "      <td>Art</td>\n",
       "      <td>5.48</td>\n",
       "    </tr>\n",
       "    <tr>\n",
       "      <td>2</td>\n",
       "      <td>CA-2011-167199</td>\n",
       "      <td>Phones</td>\n",
       "      <td>391.98</td>\n",
       "    </tr>\n",
       "    <tr>\n",
       "      <td>3</td>\n",
       "      <td>CA-2011-167199</td>\n",
       "      <td>Fasteners</td>\n",
       "      <td>755.96</td>\n",
       "    </tr>\n",
       "    <tr>\n",
       "      <td>4</td>\n",
       "      <td>CA-2011-167199</td>\n",
       "      <td>Paper</td>\n",
       "      <td>31.12</td>\n",
       "    </tr>\n",
       "    <tr>\n",
       "      <td>5</td>\n",
       "      <td>CA-2011-149020</td>\n",
       "      <td>Office Supplies</td>\n",
       "      <td>2.98</td>\n",
       "    </tr>\n",
       "    <tr>\n",
       "      <td>6</td>\n",
       "      <td>CA-2011-149020</td>\n",
       "      <td>Furniture</td>\n",
       "      <td>51.94</td>\n",
       "    </tr>\n",
       "    <tr>\n",
       "      <td>7</td>\n",
       "      <td>CA-2011-131905</td>\n",
       "      <td>Office Supplies</td>\n",
       "      <td>7.2</td>\n",
       "    </tr>\n",
       "    <tr>\n",
       "      <td>8</td>\n",
       "      <td>CA-2011-131905</td>\n",
       "      <td>Technology</td>\n",
       "      <td>42.0186</td>\n",
       "    </tr>\n",
       "    <tr>\n",
       "      <td>9</td>\n",
       "      <td>CA-2011-131905</td>\n",
       "      <td>Technology</td>\n",
       "      <td>42.035</td>\n",
       "    </tr>\n",
       "    <tr>\n",
       "      <td>10</td>\n",
       "      <td>CA-2011-127614</td>\n",
       "      <td>Accessories</td>\n",
       "      <td>234.45</td>\n",
       "    </tr>\n",
       "    <tr>\n",
       "      <td>11</td>\n",
       "      <td>CA-2011-127614</td>\n",
       "      <td>Tables</td>\n",
       "      <td>1256.22</td>\n",
       "    </tr>\n",
       "    <tr>\n",
       "      <td>12</td>\n",
       "      <td>CA-2011-127614</td>\n",
       "      <td>Binders</td>\n",
       "      <td>17.46</td>\n",
       "    </tr>\n",
       "  </tbody>\n",
       "</table>\n",
       "</div>"
      ],
      "text/plain": [
       "          Order ID          Category     Amount\n",
       "0   CA-2011-167199          Binders     609.98 \n",
       "1   CA-2011-167199              Art       5.48 \n",
       "2   CA-2011-167199           Phones     391.98 \n",
       "3   CA-2011-167199        Fasteners     755.96 \n",
       "4   CA-2011-167199             Paper      31.12\n",
       "5   CA-2011-149020  Office Supplies       2.98 \n",
       "6   CA-2011-149020         Furniture      51.94\n",
       "7   CA-2011-131905  Office Supplies        7.2 \n",
       "8   CA-2011-131905       Technology    42.0186 \n",
       "9   CA-2011-131905        Technology     42.035\n",
       "10  CA-2011-127614      Accessories     234.45 \n",
       "11  CA-2011-127614           Tables    1256.22 \n",
       "12  CA-2011-127614           Binders      17.46"
      ]
     },
     "execution_count": 57,
     "metadata": {},
     "output_type": "execute_result"
    }
   ],
   "source": [
    "Cdata1"
   ]
  },
  {
   "cell_type": "code",
   "execution_count": 59,
   "metadata": {},
   "outputs": [],
   "source": [
    "#Rename the fully cleaned data and saving it as a CSV file\n",
    "Cleaned_Data = Cdata1\n",
    "Cleaned_Data.to_csv('file_name2.csv', index=False)"
   ]
  }
 ],
 "metadata": {
  "kernelspec": {
   "display_name": "Python 3",
   "language": "python",
   "name": "python3"
  },
  "language_info": {
   "codemirror_mode": {
    "name": "ipython",
    "version": 3
   },
   "file_extension": ".py",
   "mimetype": "text/x-python",
   "name": "python",
   "nbconvert_exporter": "python",
   "pygments_lexer": "ipython3",
   "version": "3.7.4"
  }
 },
 "nbformat": 4,
 "nbformat_minor": 2
}
